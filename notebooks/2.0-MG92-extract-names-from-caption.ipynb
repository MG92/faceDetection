{
 "cells": [
  {
   "cell_type": "markdown",
   "metadata": {},
   "source": [
    "<b>The aim of this notebook is to determine a suitable method of extracting names from the Faces in the Wild picture captions</b>"
   ]
  },
  {
   "cell_type": "code",
   "execution_count": 63,
   "metadata": {},
   "outputs": [],
   "source": [
    "import os\n",
    "import spacy\n",
    "import numpy as np\n",
    "from scipy.io import loadmat"
   ]
  },
  {
   "cell_type": "code",
   "execution_count": 6,
   "metadata": {},
   "outputs": [],
   "source": [
    "caption_file = '../data/raw/labeledCaptions.mat'\n",
    "labels = loadmat(caption_file)\n",
    "details = labels['captions']"
   ]
  },
  {
   "cell_type": "code",
   "execution_count": 10,
   "metadata": {},
   "outputs": [
    {
     "data": {
      "text/plain": [
       "array([ array([[ (array([ \"South Korea's <IN> President Kim Dae-jung </IN> (R) meets with China's Foreign <OUT> Minister Tang Jiaxuan </OUT> (L) at the presidential Blue House in Seoul on August 3, 2002. Tang Jiaxuan arrived in Seoul on Friday for two days of talks with top South Korean officials, on the 10th anniversary of Seoul-Beijing diplomatic ties. REUTERS/Kim Jae-Hwan/POOL\"],\n",
       "      dtype='<U355'), array(['2002/08/03/img_812.jpg'],\n",
       "      dtype='<U22'), array([[array(['President Kim Dae-jung'],\n",
       "      dtype='<U22'),\n",
       "        array(['Minister Tang Jiaxuan'],\n",
       "      dtype='<U21')]], dtype=object))]],\n",
       "      dtype=[('caption', 'O'), ('picname', 'O'), ('names', 'O')])], dtype=object)"
      ]
     },
     "execution_count": 10,
     "metadata": {},
     "output_type": "execute_result"
    }
   ],
   "source": [
    "details[:,51]"
   ]
  },
  {
   "cell_type": "code",
   "execution_count": 31,
   "metadata": {},
   "outputs": [],
   "source": [
    "nlp = spacy.load('en')"
   ]
  },
  {
   "cell_type": "code",
   "execution_count": 52,
   "metadata": {},
   "outputs": [],
   "source": [
    "doc = nlp(str(details[:,51]))"
   ]
  },
  {
   "cell_type": "code",
   "execution_count": 81,
   "metadata": {},
   "outputs": [],
   "source": [
    "people = []\n",
    "for ent in doc.ents:\n",
    "    if ent.label_ == 'PERSON':\n",
    "        name = ent.text\n",
    "        if name[0]==\"\\'\" or name[0]==\"\\\"\":\n",
    "            name = name[1:]\n",
    "        if name[-1]==\"\\'\" or name[-1]==\"\\\"\":\n",
    "            name = name[:-1]\n",
    "        people.append(name)"
   ]
  },
  {
   "cell_type": "code",
   "execution_count": 82,
   "metadata": {},
   "outputs": [
    {
     "data": {
      "text/plain": [
       "array(['Kim Dae-jung', 'Kim Jae-Hwan', 'Tang Jiaxuan'],\n",
       "      dtype='<U12')"
      ]
     },
     "execution_count": 82,
     "metadata": {},
     "output_type": "execute_result"
    }
   ],
   "source": [
    "np.unique(people)"
   ]
  }
 ],
 "metadata": {
  "kernelspec": {
   "display_name": "Python 3",
   "language": "python",
   "name": "python3"
  },
  "language_info": {
   "codemirror_mode": {
    "name": "ipython",
    "version": 3
   },
   "file_extension": ".py",
   "mimetype": "text/x-python",
   "name": "python",
   "nbconvert_exporter": "python",
   "pygments_lexer": "ipython3",
   "version": "3.6.3"
  }
 },
 "nbformat": 4,
 "nbformat_minor": 2
}
