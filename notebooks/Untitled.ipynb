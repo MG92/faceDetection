{
 "cells": [
  {
   "cell_type": "code",
   "execution_count": 8,
   "metadata": {},
   "outputs": [
    {
     "data": {
      "text/plain": [
       "'-f'"
      ]
     },
     "execution_count": 8,
     "metadata": {},
     "output_type": "execute_result"
    }
   ],
   "source": [
    "import sys\n",
    "sys.executable\n",
    "sys.argv[1]"
   ]
  },
  {
   "cell_type": "code",
   "execution_count": 15,
   "metadata": {},
   "outputs": [],
   "source": [
    "import os\n",
    "import dlib\n",
    "import numpy as np\n",
    "import pandas as pd\n",
    "import tensorflow as tf\n",
    "from imageio import imread"
   ]
  },
  {
   "cell_type": "code",
   "execution_count": 21,
   "metadata": {},
   "outputs": [],
   "source": [
    "img_dir = '../data/raw/01/01'\n",
    "all_imgs = os.listdir(img_dir)\n",
    "len(all_imgs)\n",
    "img_array = []"
   ]
  },
  {
   "cell_type": "code",
   "execution_count": 29,
   "metadata": {},
   "outputs": [
    {
     "name": "stdout",
     "output_type": "stream",
     "text": [
      "Number of faces found 1\n",
      "face location 113 38 187 113\n",
      "Number of faces found 1\n",
      "face location 128 101 190 163\n",
      "Number of faces found 1\n",
      "face location 68 93 291 316\n",
      "Number of faces found 1\n",
      "face location 121 55 196 130\n",
      "Number of faces found 2\n",
      "face location 110 53 239 182\n",
      "face location 31 78 83 130\n",
      "Number of faces found 2\n",
      "face location 110 53 239 182\n",
      "face location 31 78 83 130\n",
      "Number of faces found 1\n",
      "face location 81 116 236 270\n",
      "Number of faces found 1\n",
      "face location 77 118 262 304\n",
      "Number of faces found 2\n",
      "face location 139 56 247 163\n",
      "face location 46 126 135 216\n",
      "Number of faces found 2\n",
      "face location 278 63 353 138\n",
      "face location 115 32 223 140\n",
      "Number of faces found 0\n",
      "Number of faces found 0\n",
      "Number of faces found 1\n",
      "face location 175 56 282 163\n",
      "Number of faces found 1\n",
      "face location 77 118 262 304\n",
      "Number of faces found 1\n",
      "face location 56 139 242 325\n",
      "Number of faces found 1\n",
      "face location 124 67 253 196\n",
      "Number of faces found 1\n",
      "face location 124 67 253 196\n",
      "Number of faces found 4\n",
      "face location 190 87 252 149\n",
      "face location 275 136 364 226\n",
      "face location 96 46 185 136\n",
      "face location 360 124 412 176\n",
      "Number of faces found 4\n",
      "face location 190 87 252 149\n",
      "face location 275 136 364 226\n",
      "face location 96 46 185 136\n",
      "face location 360 124 412 176\n",
      "Number of faces found 1\n",
      "face location 81 81 236 236\n",
      "Number of faces found 1\n",
      "face location 270 68 378 175\n",
      "Number of faces found 1\n",
      "face location 165 66 255 156\n",
      "Number of faces found 1\n",
      "face location 179 30 254 105\n",
      "Number of faces found 1\n",
      "face location 155 106 245 196\n"
     ]
    }
   ],
   "source": [
    "for img in all_imgs:\n",
    "    if img.endswith('jpg'):\n",
    "        img_path = os.path.join(img_dir, img)\n",
    "        read_img = imread(img_path)\n",
    "        img_array.append(read_img)\n",
    "        dets = detector(read_img,1)\n",
    "        print(\"Number of faces found\",len(dets))\n",
    "        for k,d in enumerate(dets):\n",
    "            print(\"face location(s)\",d.left(), d.top(), d.right(), d.bottom())"
   ]
  },
  {
   "cell_type": "code",
   "execution_count": null,
   "metadata": {},
   "outputs": [],
   "source": []
  },
  {
   "cell_type": "code",
   "execution_count": null,
   "metadata": {},
   "outputs": [],
   "source": []
  },
  {
   "cell_type": "code",
   "execution_count": null,
   "metadata": {},
   "outputs": [],
   "source": []
  },
  {
   "cell_type": "code",
   "execution_count": null,
   "metadata": {},
   "outputs": [],
   "source": []
  },
  {
   "cell_type": "code",
   "execution_count": null,
   "metadata": {},
   "outputs": [],
   "source": []
  }
 ],
 "metadata": {
  "kernelspec": {
   "display_name": "Python 3",
   "language": "python",
   "name": "python3"
  },
  "language_info": {
   "codemirror_mode": {
    "name": "ipython",
    "version": 3
   },
   "file_extension": ".py",
   "mimetype": "text/x-python",
   "name": "python",
   "nbconvert_exporter": "python",
   "pygments_lexer": "ipython3",
   "version": "3.6.3"
  }
 },
 "nbformat": 4,
 "nbformat_minor": 2
}
