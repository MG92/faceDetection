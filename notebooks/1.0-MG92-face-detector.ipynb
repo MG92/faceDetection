{
 "cells": [
  {
   "cell_type": "markdown",
   "metadata": {},
   "source": [
    "<b>Face detector</b>"
   ]
  },
  {
   "cell_type": "code",
   "execution_count": 2,
   "metadata": {},
   "outputs": [],
   "source": [
    "import os\n",
    "import sys\n",
    "import dlib\n",
    "import numpy as np\n",
    "from imageio import imread"
   ]
  },
  {
   "cell_type": "code",
   "execution_count": 13,
   "metadata": {},
   "outputs": [
    {
     "name": "stdout",
     "output_type": "stream",
     "text": [
      "['/usr/local/lib/python3.6/site-packages/ipykernel_launcher.py', '-f', '/Users/melissagourlay/Library/Jupyter/runtime/kernel-9ed65ec7-d144-40e7-a1dd-d4193081808a.json']\n"
     ]
    }
   ],
   "source": [
    "print(sys.argv)"
   ]
  },
  {
   "cell_type": "code",
   "execution_count": 14,
   "metadata": {},
   "outputs": [
    {
     "ename": "RuntimeError",
     "evalue": "An error occurred while trying to read the first object from the file /Users/melissagourlay/Library/Jupyter/runtime/kernel-9ed65ec7-d144-40e7-a1dd-d4193081808a.json.\nERROR: Error deserializing object of type int\n",
     "output_type": "error",
     "traceback": [
      "\u001b[0;31m---------------------------------------------------------------------------\u001b[0m",
      "\u001b[0;31mRuntimeError\u001b[0m                              Traceback (most recent call last)",
      "\u001b[0;32m<ipython-input-14-49c0e90d2cba>\u001b[0m in \u001b[0;36m<module>\u001b[0;34m()\u001b[0m\n\u001b[1;32m      1\u001b[0m \u001b[0mface_rec_model_path\u001b[0m \u001b[0;34m=\u001b[0m \u001b[0msys\u001b[0m\u001b[0;34m.\u001b[0m\u001b[0margv\u001b[0m\u001b[0;34m[\u001b[0m\u001b[0;36m2\u001b[0m\u001b[0;34m]\u001b[0m\u001b[0;34m\u001b[0m\u001b[0m\n\u001b[0;32m----> 2\u001b[0;31m \u001b[0mfacerec\u001b[0m \u001b[0;34m=\u001b[0m \u001b[0mdlib\u001b[0m\u001b[0;34m.\u001b[0m\u001b[0mface_recognition_model_v1\u001b[0m\u001b[0;34m(\u001b[0m\u001b[0mface_rec_model_path\u001b[0m\u001b[0;34m)\u001b[0m\u001b[0;34m\u001b[0m\u001b[0m\n\u001b[0m",
      "\u001b[0;31mRuntimeError\u001b[0m: An error occurred while trying to read the first object from the file /Users/melissagourlay/Library/Jupyter/runtime/kernel-9ed65ec7-d144-40e7-a1dd-d4193081808a.json.\nERROR: Error deserializing object of type int\n"
     ]
    }
   ],
   "source": [
    "face_rec_model_path = sys.argv[2]\n",
    "facerec = dlib.face_recognition_model_v1(face_rec_model_path)"
   ]
  },
  {
   "cell_type": "code",
   "execution_count": 12,
   "metadata": {},
   "outputs": [],
   "source": [
    "data_folder = '../data/raw/01/01'\n",
    "all_imgs = os.listdir(data_folder)\n",
    "detector = dlib.get_frontal_face_detector()"
   ]
  },
  {
   "cell_type": "markdown",
   "metadata": {},
   "source": [
    "<b>Locate faces in images</b>"
   ]
  },
  {
   "cell_type": "code",
   "execution_count": 14,
   "metadata": {},
   "outputs": [
    {
     "name": "stdout",
     "output_type": "stream",
     "text": [
      "Number of faces found: 1\n",
      "Location of faces  (113, 38, 187, 113)\n",
      "Number of faces found: 1\n",
      "Location of faces  (128, 101, 190, 163)\n",
      "Number of faces found: 1\n",
      "Location of faces  (68, 93, 291, 316)\n",
      "Number of faces found: 1\n",
      "Location of faces  (121, 55, 196, 130)\n",
      "Number of faces found: 2\n",
      "Location of faces  (110, 53, 239, 182)\n",
      "Location of faces  (31, 78, 83, 130)\n",
      "Number of faces found: 2\n",
      "Location of faces  (110, 53, 239, 182)\n",
      "Location of faces  (31, 78, 83, 130)\n",
      "Number of faces found: 1\n",
      "Location of faces  (81, 116, 236, 270)\n",
      "Number of faces found: 1\n",
      "Location of faces  (77, 118, 262, 304)\n",
      "Number of faces found: 2\n",
      "Location of faces  (139, 56, 247, 163)\n",
      "Location of faces  (46, 126, 135, 216)\n",
      "Number of faces found: 2\n",
      "Location of faces  (278, 63, 353, 138)\n",
      "Location of faces  (115, 32, 223, 140)\n",
      "Number of faces found: 0\n",
      "Number of faces found: 0\n",
      "Number of faces found: 1\n",
      "Location of faces  (175, 56, 282, 163)\n",
      "Number of faces found: 1\n",
      "Location of faces  (77, 118, 262, 304)\n",
      "Number of faces found: 1\n",
      "Location of faces  (56, 139, 242, 325)\n",
      "Number of faces found: 1\n",
      "Location of faces  (124, 67, 253, 196)\n",
      "Number of faces found: 1\n",
      "Location of faces  (124, 67, 253, 196)\n",
      "Number of faces found: 4\n",
      "Location of faces  (190, 87, 252, 149)\n",
      "Location of faces  (275, 136, 364, 226)\n",
      "Location of faces  (96, 46, 185, 136)\n",
      "Location of faces  (360, 124, 412, 176)\n",
      "Number of faces found: 4\n",
      "Location of faces  (190, 87, 252, 149)\n",
      "Location of faces  (275, 136, 364, 226)\n",
      "Location of faces  (96, 46, 185, 136)\n",
      "Location of faces  (360, 124, 412, 176)\n",
      "Number of faces found: 1\n",
      "Location of faces  (81, 81, 236, 236)\n",
      "Number of faces found: 1\n",
      "Location of faces  (270, 68, 378, 175)\n",
      "Number of faces found: 1\n",
      "Location of faces  (165, 66, 255, 156)\n",
      "Number of faces found: 1\n",
      "Location of faces  (179, 30, 254, 105)\n",
      "Number of faces found: 1\n",
      "Location of faces  (155, 106, 245, 196)\n"
     ]
    }
   ],
   "source": [
    "for img in all_imgs:\n",
    "    if img.endswith('.jpg'):\n",
    "        img = imread(os.path.join(data_folder, img))\n",
    "        dets = detector(img,1)\n",
    "        print(\"Number of faces found: %d\"%len(dets))\n",
    "        for d in dets:\n",
    "            print(\"Location of faces \", (d.left(), d.top(), d.right(), d.bottom()))"
   ]
  },
  {
   "cell_type": "code",
   "execution_count": null,
   "metadata": {},
   "outputs": [],
   "source": []
  }
 ],
 "metadata": {
  "kernelspec": {
   "display_name": "Python 3",
   "language": "python",
   "name": "python3"
  },
  "language_info": {
   "codemirror_mode": {
    "name": "ipython",
    "version": 3
   },
   "file_extension": ".py",
   "mimetype": "text/x-python",
   "name": "python",
   "nbconvert_exporter": "python",
   "pygments_lexer": "ipython3",
   "version": "3.6.3"
  }
 },
 "nbformat": 4,
 "nbformat_minor": 2
}
